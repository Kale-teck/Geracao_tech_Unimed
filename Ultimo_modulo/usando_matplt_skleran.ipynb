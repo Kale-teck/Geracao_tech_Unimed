{
  "nbformat": 4,
  "nbformat_minor": 0,
  "metadata": {
    "colab": {
      "provenance": [],
      "collapsed_sections": []
    },
    "kernelspec": {
      "name": "python3",
      "display_name": "Python 3"
    },
    "language_info": {
      "name": "python"
    }
  },
  "cells": [
    {
      "cell_type": "code",
      "execution_count": 2,
      "metadata": {
        "id": "ZNcMEA3ZU1Wp"
      },
      "outputs": [],
      "source": [
        "import matplotlib"
      ]
    },
    {
      "cell_type": "code",
      "source": [
        "#gerar valores no espaço x e y\n",
        "from sklearn.datasets import make_regression\n",
        "x, y = make_regression(n_samples=200, n_features=1, noise=30)\n",
        "import matplotlib.pyplot as plt\n"
      ],
      "metadata": {
        "id": "GbiKg__ZVLFV"
      },
      "execution_count": 3,
      "outputs": []
    },
    {
      "cell_type": "code",
      "source": [
        "plt.scatter(x, y)\n",
        "plt.show() #apresenta o gráfico\n",
        "#ruido de 30 é uma \"margem de erro\""
      ],
      "metadata": {
        "colab": {
          "base_uri": "https://localhost:8080/",
          "height": 265
        },
        "id": "TwfWLbMFV6n9",
        "outputId": "2fb23f10-e75b-4d42-f0b8-ecd8dd91e8aa"
      },
      "execution_count": 4,
      "outputs": [
        {
          "output_type": "display_data",
          "data": {
            "text/plain": [
              "<Figure size 432x288 with 1 Axes>"
            ],
            "image/png": "[encoded data removed]"
          },
          "metadata": {
            "needs_background": "light"
          }
        }
      ]
    }
  ]
}