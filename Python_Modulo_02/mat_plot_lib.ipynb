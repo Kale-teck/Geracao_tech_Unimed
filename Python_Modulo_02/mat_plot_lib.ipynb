{
  "nbformat": 4,
  "nbformat_minor": 0,
  "metadata": {
    "colab": {
      "provenance": []
    },
    "kernelspec": {
      "name": "python3",
      "display_name": "Python 3"
    },
    "language_info": {
      "name": "python"
    }
  },
  "cells": [
    {
      "cell_type": "code",
      "execution_count": 3,
      "metadata": {
        "id": "5HbAavsE-HWJ"
      },
      "outputs": [],
      "source": [
        "import pandas as pd"
      ]
    },
    {
      "cell_type": "code",
      "source": [
        "import numpy as np"
      ],
      "metadata": {
        "id": "qfBQg_IA_4Tw"
      },
      "execution_count": 4,
      "outputs": []
    },
    {
      "cell_type": "code",
      "source": [
        "recomendacao = pd.read_csv(\"/content/drive/MyDrive/PANDAS/recomendacao.csv\", error_bad_lines=False, sep=\";\")"
      ],
      "metadata": {
        "colab": {
          "base_uri": "https://localhost:8080/"
        },
        "id": "J7Hh9w7xAcav",
        "outputId": "0f4526ac-4e78-4d6c-b172-e3e4f9a5b777"
      },
      "execution_count": 19,
      "outputs": [
        {
          "output_type": "stream",
          "name": "stderr",
          "text": [
            "/usr/local/lib/python3.7/dist-packages/IPython/core/interactiveshell.py:3326: FutureWarning: The error_bad_lines argument has been deprecated and will be removed in a future version.\n",
            "\n",
            "\n",
            "  exec(code_obj, self.user_global_ns, self.user_ns)\n"
          ]
        }
      ]
    },
    {
      "cell_type": "code",
      "source": [
        "recomendacao.head(n=4)"
      ],
      "metadata": {
        "colab": {
          "base_uri": "https://localhost:8080/",
          "height": 360
        },
        "id": "su8TWE_5A5pw",
        "outputId": "7bd57b7d-3556-4419-f0bc-4dd02bbea10c"
      },
      "execution_count": 20,
      "outputs": [
        {
          "output_type": "execute_result",
          "data": {
            "text/plain": [
              "   codigo_ocorrencia4          recomendacao_numero  \\\n",
              "0               45331       A-582/CENIPA/2014 - 01   \n",
              "1               45331       A-582/CENIPA/2014 - 02   \n",
              "2               45331       A-582/CENIPA/2014 - 03   \n",
              "3               45392  A-032/CENIPA/2014 - RSV 001   \n",
              "\n",
              "  recomendacao_dia_assinatura recomendacao_dia_encaminhamento  \\\n",
              "0                  2016-07-29                      2016-08-25   \n",
              "1                  2016-07-29                      2016-08-25   \n",
              "2                  2016-07-29                      2016-08-25   \n",
              "3                  2014-04-07                      2015-04-14   \n",
              "\n",
              "  recomendacao_dia_feedback  \\\n",
              "0                2016-12-20   \n",
              "1                2016-12-20   \n",
              "2                2019-09-16   \n",
              "3                2015-08-21   \n",
              "\n",
              "                               recomendacao_conteudo  \\\n",
              "0  Atuar junto às empresas que operam segundo o R...   \n",
              "1  Atuar junto à Administração do Aeroporto Inter...   \n",
              "2  Orientar as suas organizações subordinadas em ...   \n",
              "3  Divulgar aos operadores de helicópteros vincul...   \n",
              "\n",
              "             recomendacao_status recomendacao_destinatario_sigla  \\\n",
              "0                       CUMPRIDA                            ANAC   \n",
              "1                       CUMPRIDA                            ANAC   \n",
              "2                       CUMPRIDA                           DECEA   \n",
              "3  CUMPRIDA DE FORMA ALTERNATIVA                            ANAC   \n",
              "\n",
              "                  recomendacao_destinatario  \n",
              "0         AGÊNCIA NACIONAL DE AVIAÇÃO CIVIL  \n",
              "1         AGÊNCIA NACIONAL DE AVIAÇÃO CIVIL  \n",
              "2  DEPARTAMENTO DE CONTROLE DE ESPAÇO AÉREO  \n",
              "3         AGÊNCIA NACIONAL DE AVIAÇÃO CIVIL  "
            ],
            "text/html": [
              "\n",
              "  <div id=\"df-4d05fa8a-757b-4ff9-9e51-631a2b615ea9\">\n",
              "    <div class=\"colab-df-container\">\n",
              "      <div>\n",
              "<style scoped>\n",
              "    .dataframe tbody tr th:only-of-type {\n",
              "        vertical-align: middle;\n",
              "    }\n",
              "\n",
              "    .dataframe tbody tr th {\n",
              "        vertical-align: top;\n",
              "    }\n",
              "\n",
              "    .dataframe thead th {\n",
              "        text-align: right;\n",
              "    }\n",
              "</style>\n",
              "<table border=\"1\" class=\"dataframe\">\n",
              "  <thead>\n",
              "    <tr style=\"text-align: right;\">\n",
              "      <th></th>\n",
              "      <th>codigo_ocorrencia4</th>\n",
              "      <th>recomendacao_numero</th>\n",
              "      <th>recomendacao_dia_assinatura</th>\n",
              "      <th>recomendacao_dia_encaminhamento</th>\n",
              "      <th>recomendacao_dia_feedback</th>\n",
              "      <th>recomendacao_conteudo</th>\n",
              "      <th>recomendacao_status</th>\n",
              "      <th>recomendacao_destinatario_sigla</th>\n",
              "      <th>recomendacao_destinatario</th>\n",
              "    </tr>\n",
              "  </thead>\n",
              "  <tbody>\n",
              "    <tr>\n",
              "      <th>0</th>\n",
              "      <td>45331</td>\n",
              "      <td>A-582/CENIPA/2014 - 01</td>\n",
              "      <td>2016-07-29</td>\n",
              "      <td>2016-08-25</td>\n",
              "      <td>2016-12-20</td>\n",
              "      <td>Atuar junto às empresas que operam segundo o R...</td>\n",
              "      <td>CUMPRIDA</td>\n",
              "      <td>ANAC</td>\n",
              "      <td>AGÊNCIA NACIONAL DE AVIAÇÃO CIVIL</td>\n",
              "    </tr>\n",
              "    <tr>\n",
              "      <th>1</th>\n",
              "      <td>45331</td>\n",
              "      <td>A-582/CENIPA/2014 - 02</td>\n",
              "      <td>2016-07-29</td>\n",
              "      <td>2016-08-25</td>\n",
              "      <td>2016-12-20</td>\n",
              "      <td>Atuar junto à Administração do Aeroporto Inter...</td>\n",
              "      <td>CUMPRIDA</td>\n",
              "      <td>ANAC</td>\n",
              "      <td>AGÊNCIA NACIONAL DE AVIAÇÃO CIVIL</td>\n",
              "    </tr>\n",
              "    <tr>\n",
              "      <th>2</th>\n",
              "      <td>45331</td>\n",
              "      <td>A-582/CENIPA/2014 - 03</td>\n",
              "      <td>2016-07-29</td>\n",
              "      <td>2016-08-25</td>\n",
              "      <td>2019-09-16</td>\n",
              "      <td>Orientar as suas organizações subordinadas em ...</td>\n",
              "      <td>CUMPRIDA</td>\n",
              "      <td>DECEA</td>\n",
              "      <td>DEPARTAMENTO DE CONTROLE DE ESPAÇO AÉREO</td>\n",
              "    </tr>\n",
              "    <tr>\n",
              "      <th>3</th>\n",
              "      <td>45392</td>\n",
              "      <td>A-032/CENIPA/2014 - RSV 001</td>\n",
              "      <td>2014-04-07</td>\n",
              "      <td>2015-04-14</td>\n",
              "      <td>2015-08-21</td>\n",
              "      <td>Divulgar aos operadores de helicópteros vincul...</td>\n",
              "      <td>CUMPRIDA DE FORMA ALTERNATIVA</td>\n",
              "      <td>ANAC</td>\n",
              "      <td>AGÊNCIA NACIONAL DE AVIAÇÃO CIVIL</td>\n",
              "    </tr>\n",
              "  </tbody>\n",
              "</table>\n",
              "</div>\n",
              "      <button class=\"colab-df-convert\" onclick=\"convertToInteractive('df-4d05fa8a-757b-4ff9-9e51-631a2b615ea9')\"\n",
              "              title=\"Convert this dataframe to an interactive table.\"\n",
              "              style=\"display:none;\">\n",
              "        \n",
              "  <svg xmlns=\"http://www.w3.org/2000/svg\" height=\"24px\"viewBox=\"0 0 24 24\"\n",
              "       width=\"24px\">\n",
              "    <path d=\"M0 0h24v24H0V0z\" fill=\"none\"/>\n",
              "    <path d=\"M18.56 5.44l.94 2.06.94-2.06 2.06-.94-2.06-.94-.94-2.06-.94 2.06-2.06.94zm-11 1L8.5 8.5l.94-2.06 2.06-.94-2.06-.94L8.5 2.5l-.94 2.06-2.06.94zm10 10l.94 2.06.94-2.06 2.06-.94-2.06-.94-.94-2.06-.94 2.06-2.06.94z\"/><path d=\"M17.41 7.96l-1.37-1.37c-.4-.4-.92-.59-1.43-.59-.52 0-1.04.2-1.43.59L10.3 9.45l-7.72 7.72c-.78.78-.78 2.05 0 2.83L4 21.41c.39.39.9.59 1.41.59.51 0 1.02-.2 1.41-.59l7.78-7.78 2.81-2.81c.8-.78.8-2.07 0-2.86zM5.41 20L4 18.59l7.72-7.72 1.47 1.35L5.41 20z\"/>\n",
              "  </svg>\n",
              "      </button>\n",
              "      \n",
              "  <style>\n",
              "    .colab-df-container {\n",
              "      display:flex;\n",
              "      flex-wrap:wrap;\n",
              "      gap: 12px;\n",
              "    }\n",
              "\n",
              "    .colab-df-convert {\n",
              "      background-color: #E8F0FE;\n",
              "      border: none;\n",
              "      border-radius: 50%;\n",
              "      cursor: pointer;\n",
              "      display: none;\n",
              "      fill: #1967D2;\n",
              "      height: 32px;\n",
              "      padding: 0 0 0 0;\n",
              "      width: 32px;\n",
              "    }\n",
              "\n",
              "    .colab-df-convert:hover {\n",
              "      background-color: #E2EBFA;\n",
              "      box-shadow: 0px 1px 2px rgba(60, 64, 67, 0.3), 0px 1px 3px 1px rgba(60, 64, 67, 0.15);\n",
              "      fill: #174EA6;\n",
              "    }\n",
              "\n",
              "    [theme=dark] .colab-df-convert {\n",
              "      background-color: #3B4455;\n",
              "      fill: #D2E3FC;\n",
              "    }\n",
              "\n",
              "    [theme=dark] .colab-df-convert:hover {\n",
              "      background-color: #434B5C;\n",
              "      box-shadow: 0px 1px 3px 1px rgba(0, 0, 0, 0.15);\n",
              "      filter: drop-shadow(0px 1px 2px rgba(0, 0, 0, 0.3));\n",
              "      fill: #FFFFFF;\n",
              "    }\n",
              "  </style>\n",
              "\n",
              "      <script>\n",
              "        const buttonEl =\n",
              "          document.querySelector('#df-4d05fa8a-757b-4ff9-9e51-631a2b615ea9 button.colab-df-convert');\n",
              "        buttonEl.style.display =\n",
              "          google.colab.kernel.accessAllowed ? 'block' : 'none';\n",
              "\n",
              "        async function convertToInteractive(key) {\n",
              "          const element = document.querySelector('#df-4d05fa8a-757b-4ff9-9e51-631a2b615ea9');\n",
              "          const dataTable =\n",
              "            await google.colab.kernel.invokeFunction('convertToInteractive',\n",
              "                                                     [key], {});\n",
              "          if (!dataTable) return;\n",
              "\n",
              "          const docLinkHtml = 'Like what you see? Visit the ' +\n",
              "            '<a target=\"_blank\" href=https://colab.research.google.com/notebooks/data_table.ipynb>data table notebook</a>'\n",
              "            + ' to learn more about interactive tables.';\n",
              "          element.innerHTML = '';\n",
              "          dataTable['output_type'] = 'display_data';\n",
              "          await google.colab.output.renderOutput(dataTable, element);\n",
              "          const docLink = document.createElement('div');\n",
              "          docLink.innerHTML = docLinkHtml;\n",
              "          element.appendChild(docLink);\n",
              "        }\n",
              "      </script>\n",
              "    </div>\n",
              "  </div>\n",
              "  "
            ]
          },
          "metadata": {},
          "execution_count": 20
        }
      ]
    },
    {
      "cell_type": "code",
      "source": [
        "recomendacao.shape #tamanho"
      ],
      "metadata": {
        "colab": {
          "base_uri": "https://localhost:8080/"
        },
        "id": "-FjT4lz4EJ5h",
        "outputId": "41df9553-7cef-4ee8-efe0-514bb0edc2c9"
      },
      "execution_count": 21,
      "outputs": [
        {
          "output_type": "execute_result",
          "data": {
            "text/plain": [
              "(1331, 9)"
            ]
          },
          "metadata": {},
          "execution_count": 21
        }
      ]
    },
    {
      "cell_type": "code",
      "source": [
        "recomendacao.info()"
      ],
      "metadata": {
        "colab": {
          "base_uri": "https://localhost:8080/"
        },
        "id": "ZbVGVuYnFBgn",
        "outputId": "bc95c8f7-1d8b-4bfc-c4a3-989d48991730"
      },
      "execution_count": 22,
      "outputs": [
        {
          "output_type": "stream",
          "name": "stdout",
          "text": [
            "<class 'pandas.core.frame.DataFrame'>\n",
            "RangeIndex: 1331 entries, 0 to 1330\n",
            "Data columns (total 9 columns):\n",
            " #   Column                           Non-Null Count  Dtype \n",
            "---  ------                           --------------  ----- \n",
            " 0   codigo_ocorrencia4               1331 non-null   int64 \n",
            " 1   recomendacao_numero              1331 non-null   object\n",
            " 2   recomendacao_dia_assinatura      1331 non-null   object\n",
            " 3   recomendacao_dia_encaminhamento  1331 non-null   object\n",
            " 4   recomendacao_dia_feedback        1137 non-null   object\n",
            " 5   recomendacao_conteudo            1327 non-null   object\n",
            " 6   recomendacao_status              1331 non-null   object\n",
            " 7   recomendacao_destinatario_sigla  1331 non-null   object\n",
            " 8   recomendacao_destinatario        1331 non-null   object\n",
            "dtypes: int64(1), object(8)\n",
            "memory usage: 93.7+ KB\n"
          ]
        }
      ]
    },
    {
      "cell_type": "code",
      "source": [
        "recomendacao.isnull().sum() #retorna quantidade de nulos"
      ],
      "metadata": {
        "colab": {
          "base_uri": "https://localhost:8080/"
        },
        "id": "X-JK0xEFFHk7",
        "outputId": "99c18a8d-5244-4586-9471-f881d2a8acfb"
      },
      "execution_count": 23,
      "outputs": [
        {
          "output_type": "execute_result",
          "data": {
            "text/plain": [
              "codigo_ocorrencia4                   0\n",
              "recomendacao_numero                  0\n",
              "recomendacao_dia_assinatura          0\n",
              "recomendacao_dia_encaminhamento      0\n",
              "recomendacao_dia_feedback          194\n",
              "recomendacao_conteudo                4\n",
              "recomendacao_status                  0\n",
              "recomendacao_destinatario_sigla      0\n",
              "recomendacao_destinatario            0\n",
              "dtype: int64"
            ]
          },
          "metadata": {},
          "execution_count": 23
        }
      ]
    },
    {
      "cell_type": "markdown",
      "source": [
        "**Usando MatplotLib para criação de um gráfico em Plano Carteziano**"
      ],
      "metadata": {
        "id": "c7qM4K-rOSwu"
      }
    },
    {
      "cell_type": "code",
      "source": [
        "import matplotlib.pyplot as plt\n",
        "#biblioteca matplotlib permite criar gráficos com apenas uma função"
      ],
      "metadata": {
        "id": "lzRiNIJAFwun"
      },
      "execution_count": 24,
      "outputs": []
    },
    {
      "cell_type": "code",
      "source": [
        "recomendacao.plot() #gráfico carteziano"
      ],
      "metadata": {
        "colab": {
          "base_uri": "https://localhost:8080/",
          "height": 283
        },
        "id": "o0AAFlwrJmgX",
        "outputId": "b1c5b7ff-ed63-4918-f1db-a317a6cb15f7"
      },
      "execution_count": 25,
      "outputs": [
        {
          "output_type": "execute_result",
          "data": {
            "text/plain": [
              "<matplotlib.axes._subplots.AxesSubplot at 0x7f642bd27a90>"
            ]
          },
          "metadata": {},
          "execution_count": 25
        },
        {
          "output_type": "display_data",
          "data": {
            "text/plain": [
              "<Figure size 432x288 with 1 Axes>"
            ],
            "image/png": "[encoded data removed]"
          },
          "metadata": {
            "needs_background": "light"
          }
        }
      ]
    }
  ]
}